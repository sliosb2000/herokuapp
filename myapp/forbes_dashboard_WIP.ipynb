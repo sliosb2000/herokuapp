{
 "cells": [
  {
   "cell_type": "code",
   "execution_count": null,
   "metadata": {},
   "outputs": [],
   "source": [
    "import numpy as np\n",
    "import pandas as pd \n",
    "import seaborn as sns\n",
    "import matplotlib.pyplot as plt\n",
    "import plotly.express as px\n",
    "import panel as pn\n",
    "from pyforbes import ForbesList\n",
    "import hvplot.pandas\n",
    "pn.extension('tabulator')"
   ]
  },
  {
   "cell_type": "code",
   "execution_count": null,
   "metadata": {},
   "outputs": [],
   "source": [
    "flist = ForbesList()\n",
    "years = []\n",
    "df = pd.DataFrame()\n",
    "for i in range(1997, 2023):\n",
    "    years.append(i)\n",
    "df[\"year\"] = years"
   ]
  },
  {
   "cell_type": "markdown",
   "metadata": {},
   "source": [
    "#Fill any empty values in the dataframe as 0"
   ]
  },
  {
   "cell_type": "code",
   "execution_count": null,
   "metadata": {},
   "outputs": [],
   "source": [
    "#richest400_df = richest400_df.fillna(0)"
   ]
  },
  {
   "cell_type": "markdown",
   "metadata": {},
   "source": [
    "Create an array to keep track of the total number of billionaires each year"
   ]
  },
  {
   "cell_type": "code",
   "execution_count": null,
   "metadata": {},
   "outputs": [],
   "source": [
    "number_billionaires = []\n",
    "for i in range(1997,2023):\n",
    "    number_df = flist.get_df(\"billionaires\", year =i)\n",
    "    number_billionaires.append(number_df.shape[0])\n",
    "df[\"Total Billionaires\"] = number_billionaires"
   ]
  },
  {
   "cell_type": "markdown",
   "metadata": {},
   "source": [
    "Enable the DataFrame to be interactive"
   ]
  },
  {
   "cell_type": "code",
   "execution_count": null,
   "metadata": {},
   "outputs": [],
   "source": [
    "idf = df.interactive()"
   ]
  },
  {
   "cell_type": "markdown",
   "metadata": {},
   "source": [
    "### World map visualisation\n"
   ]
  },
  {
   "cell_type": "code",
   "execution_count": null,
   "metadata": {},
   "outputs": [],
   "source": [
    "import folium as fm\n",
    "import pandas as pd\n",
    "import param\n",
    "import panel as pn\n",
    "import random\n",
    "pn.extension(sizing_mode=\"stretch_width\")\n",
    "\n",
    "def get_map():\n",
    "    return fm.Map()\n",
    "\n",
    "mmap = get_map()\n",
    "\n",
    "pn.panel(mmap, height=400)\n",
    "\n",
    "url = 'https://raw.githubusercontent.com/python-visualization/folium/master/examples/data'\n",
    "country_shapes = f'{url}/world-countries.json'\n",
    "\n",
    "\n",
    "#building the data\n",
    "\n",
    "df_years = pd.read_csv(\"data/number_billionaires_by_year.csv\",sep=\";\")\n",
    "def get_df(year = 2000):\n",
    "    \n",
    "    return df_years[df_years.year == year]\n",
    "\n",
    "def update_map(mmap,df):\n",
    "    fm.Choropleth(\n",
    "    #The GeoJSON data to represent the world country\n",
    "    geo_data=country_shapes,\n",
    "    name='Number of Billionaires per country',\n",
    "    data=df.drop(\"year\",axis=1),#year axis is unnessesary right now since it was already filtered out\n",
    "    #The column aceppting list with 2 value; The country name and  the numerical value\n",
    "    columns=['country', 'number'],\n",
    "    key_on='feature.properties.name',\n",
    "    fill_color='PuRd',\n",
    "    nan_fill_color='white').add_to(mmap)\n",
    "    \n",
    "\n",
    "pn.panel(mmap, height=5000)\n",
    "\n",
    "class PanelFoliumMap(param.Parameterized):\n",
    "    year_count = param.Integer(2000, bounds=(1997,2022))\n",
    "        \n",
    "    def __init__(self, **params):\n",
    "        super().__init__(**params)\n",
    "        self.mmap = get_map()\n",
    "        self.folium_pane = pn.pane.plot.Folium(sizing_mode=\"stretch_both\", min_height=500, margin=0)    \n",
    "        self.view = pn.Column(\n",
    "            #self.param.year_count,\n",
    "            self.folium_pane,\n",
    "            sizing_mode=\"stretch_both\", height=500\n",
    "        )\n",
    "        self._update_map()\n",
    "\n",
    "    @param.depends(\"year_count\", watch=True)\n",
    "    def _update_map(self):\n",
    "        self.mmap = get_map()\n",
    "        df = get_df(year=self.year_count)\n",
    "        update_map(self.mmap,df)\n",
    "        self.folium_pane.object = self.mmap\n",
    "        \n",
    "\n",
    "        \n",
    "myapp = PanelFoliumMap()"
   ]
  },
  {
   "cell_type": "markdown",
   "metadata": {},
   "source": [
    "Create the year slider widget"
   ]
  },
  {
   "cell_type": "code",
   "execution_count": null,
   "metadata": {},
   "outputs": [],
   "source": [
    "\n",
    "\n",
    "year_slider = myapp.param.year_count"
   ]
  },
  {
   "cell_type": "markdown",
   "metadata": {},
   "source": [
    "Setting up pipeline for total billionaires (Not fixed yet)"
   ]
  },
  {
   "cell_type": "code",
   "execution_count": null,
   "metadata": {},
   "outputs": [],
   "source": [
    "total_pipeline = (\n",
    "    idf[\n",
    "        idf.year <= year_slider\n",
    "    ]\n",
    "    .reset_index()\n",
    "    .sort_values(by='year')  \n",
    "    .reset_index(drop=True)\n",
    ")"
   ]
  },
  {
   "cell_type": "markdown",
   "metadata": {},
   "source": [
    "Creating plot for total billionaires using hvplot (Not working)"
   ]
  },
  {
   "cell_type": "code",
   "execution_count": null,
   "metadata": {},
   "outputs": [],
   "source": [
    "total_billionaire_plot = total_pipeline.hvplot(x = 'year', y = 'Total Billionaires', title=\"Number of billionaires per year\")"
   ]
  },
  {
   "cell_type": "markdown",
   "metadata": {},
   "source": [
    "New Visualization to add to the Dashboard starts here"
   ]
  },
  {
   "cell_type": "code",
   "execution_count": null,
   "metadata": {},
   "outputs": [],
   "source": [
    "bar_df = pd.DataFrame()\n",
    "year_data = []\n",
    "worth_data = []\n",
    "name_data = []\n",
    "for i in range(1997,2023):\n",
    "    finalworth_df = flist.get_df(\"billionaires\", year =i)\n",
    "    finalworth_df = finalworth_df[['year', 'finalWorth', 'person', 'name']]\n",
    "    finalworth_df = finalworth_df.sort_values(by='finalWorth',ascending=False)\n",
    "    counter = 0\n",
    "    for row in finalworth_df.iterrows():\n",
    "        year_data.append(row[1].year)\n",
    "        worth_data.append(row[1].finalWorth)\n",
    "        name_data.append(row[1].person[\"name\"])\n",
    "        counter = counter + 1\n",
    "        if (counter == 10):\n",
    "            break\n",
    "\n",
    "\n",
    "bar_df[\"year\"] = year_data\n",
    "bar_df[\"finalWorth\"] = worth_data\n",
    "bar_df[\"name\"] = name_data"
   ]
  },
  {
   "cell_type": "code",
   "execution_count": null,
   "metadata": {},
   "outputs": [],
   "source": [
    "bar_idf = bar_df.interactive()"
   ]
  },
  {
   "cell_type": "code",
   "execution_count": null,
   "metadata": {},
   "outputs": [],
   "source": [
    "bar_pipeline = (\n",
    "    bar_idf[\n",
    "        bar_idf.year == year_slider\n",
    "    ]\n",
    "    .reset_index()\n",
    "    .sort_values(by='finalWorth')  \n",
    "    .reset_index(drop=True)\n",
    ")"
   ]
  },
  {
   "cell_type": "code",
   "execution_count": null,
   "metadata": {},
   "outputs": [],
   "source": [
    "worth_bar_plot = bar_pipeline.hvplot.barh(x = 'name', y = 'finalWorth', \n",
    "                                    title = 'Top 10 Billionaires Based on Final Worth')"
   ]
  },
  {
   "cell_type": "markdown",
   "metadata": {},
   "source": [
    "Billionaire/Year"
   ]
  },
  {
   "cell_type": "code",
   "execution_count": null,
   "metadata": {},
   "outputs": [],
   "source": [
    "from pyforbes import ForbesList\n",
    "import pandas as pd\n",
    "import matplotlib.pyplot as plt\n",
    "import numpy as np\n",
    "flist = ForbesList()\n",
    "richest400_df = flist.get_df(\"billionaires\", year =2022)\n",
    "\n",
    "#for the billionaire wealth/rank plot\n",
    "import matplotlib\n",
    "from matplotlib.collections import LineCollection\n",
    "import matplotlib.colors as co\n",
    "import matplotlib.cm as cm\n",
    "#we will use this function on every loaded dataset to have consistent names in each dataFrame \n",
    "\n",
    "def uri_to_name(data):\n",
    "    lst = []\n",
    "    for index, row in data.iterrows():\n",
    "        lst.append(row['person'][\"name\"])\n",
    "    data.name = pd.Series(lst)\n",
    "uri_to_name(richest400_df)\n",
    "richest400_df.head()\n",
    "n = list(richest400_df.name)\n",
    "\n",
    "def get_rank_wealth(name,year): #gives the rank and the wealth of the billionaire a certain year\n",
    "    df = flist.get_df(\"billionaires\", year =year)\n",
    "    uri_to_name(df)\n",
    "    \n",
    "    if name in df.name.values:\n",
    "        num_billionaires = df.shape[0]\n",
    "                #this is the min max scaling of the rank of each billionaire by year\n",
    "                #max+1               -  value                                         - min / max - min\n",
    "        rank = ((num_billionaires+1) - int(df[df.name == name].finalWorth.index[0]+1) - 1)/(num_billionaires - 1)\n",
    "        \n",
    "        wealth = int(df[df.name == name].finalWorth.values[0])\n",
    "        return rank,wealth\n",
    "    else:#if the name isnt in this year returns rank 0 and wealth 0\n",
    "        return 0,0\n",
    "\n",
    "#Called rank_ column isntead of rank, it caused a weird bug\n",
    "def list_of_wealth(name,start=1997,stop=2022):\n",
    "    rank_wealth = pd.DataFrame(columns=[\"rank_\",\"wealth\"])\n",
    "\n",
    "    for year in range(start,stop+1):\n",
    "        \n",
    "        rank,wealth = get_rank_wealth(name,year)\n",
    "        #print(year,rank,wealth)\n",
    "        #rank_wealth = rank_wealth.append({\"rank_\":rank,\"wealth\":wealth,\"year\":year},ignore_index=True)\n",
    "        rank_wealth = rank_wealth.append({\"rank_\":rank,\"wealth\":wealth},ignore_index=True)\n",
    "\n",
    "    return rank_wealth\n",
    "\n",
    "def color_map_color(value, cmap_name='inferno', vmin=0, vmax=1):\n",
    "    # norm = plt.Normalize(vmin, vmax)\n",
    "    norm = matplotlib.colors.Normalize(vmin=vmin, vmax=vmax)\n",
    "    cmap = cm.get_cmap(cmap_name)  # PiYG\n",
    "    rgb = cmap(norm(abs(value)))[:3]  # will return rgba, we take only first 3 so we get rgb\n",
    "    color = matplotlib.colors.rgb2hex(rgb)\n",
    "    return color\n",
    "\n",
    "def make_plot(Billionaire):\n",
    "    bil=list_of_wealth(Billionaire)\n",
    "    bil\n",
    "\n",
    "    #return bil.hvplot(x = 'year', y = 'wealth', value_label='rank', title=\"Number of billionaires per year\")\n",
    "\n",
    "    print(Billionaire)\n",
    "\n",
    "    fig = plt.figure(figsize=(12, 8))\n",
    "    ax = fig.subplots()\n",
    "    \n",
    "    y,r = bil.wealth.values,bil.rank_.values\n",
    "    x = np.arange(1997,2023)\n",
    "\n",
    "    points = np.array([x, y]).T.reshape(-1, 1, 2)\n",
    "    segments = np.concatenate([points[:-1], points[1:]], axis=1)\n",
    "\n",
    "    # Create a continuous norm to map from data points to colors\n",
    "\n",
    "    #lc = LineCollection(segments, cmap='prism',colors = cm.hot(list(r)))\n",
    "    c = list(map(color_map_color,r))\n",
    "    lc = LineCollection(segments, cmap='inferno', color = c)\n",
    "    # Set the values used for colormapping\n",
    "    lc.set_array([0,1])\n",
    "    lc.set_linewidth(2)\n",
    "    lc.set_label('Line Number')\n",
    "    line = ax.add_collection(lc)\n",
    "    fig.colorbar(line, ax=ax)\n",
    "    \n",
    "\n",
    "    ax.set_title(f\"{Billionaire}'s Wealth colored by comparative rank\")\n",
    "\n",
    "    ax.set_facecolor((0.0, 0.0, 0.0, 0.2))\n",
    "    ax.set_xlim(x.min(), x.max())\n",
    "    ax.set_ylim(1, 200000)\n",
    "\n",
    "    return fig\n",
    "\n",
    "#interact = pn.interact(make_plot, Billionaire=n)\n",
    "\n",
    "interact = pn.interact(make_plot, Billionaire=n)"
   ]
  },
  {
   "cell_type": "markdown",
   "metadata": {},
   "source": [
    "Creating the Dashboard (Not finished!)"
   ]
  },
  {
   "cell_type": "code",
   "execution_count": null,
   "metadata": {},
   "outputs": [],
   "source": [
    "template = pn.template.FastListTemplate(\n",
    "    title='Forbes Billionaires Data Visualizations', \n",
    "    sidebar=[pn.pane.Markdown(\"## Settings\"),   \n",
    "            myapp.param.year_count,\n",
    "            interact[0]],\n",
    "    main=[pn.Row(pn.Column(total_billionaire_plot.panel(width=700), margin=(0,25))),\n",
    "                pn.Row(pn.Column(worth_bar_plot.panel(width=700), margin=(0,25))),\n",
    "         pn.Row(myapp.view),\n",
    "         pn.Row(interact[1])],\n",
    "    accent_base_color=\"#88d8b0\",\n",
    "    header_background=\"#88d8b0\",\n",
    ")\n",
    "# template.show()\n",
    "template.servable()"
   ]
  },
  {
   "cell_type": "code",
   "execution_count": null,
   "metadata": {},
   "outputs": [],
   "source": []
  }
 ],
 "metadata": {
  "kernelspec": {
   "display_name": "Python 3 (ipykernel)",
   "language": "python",
   "name": "python3"
  },
  "language_info": {
   "codemirror_mode": {
    "name": "ipython",
    "version": 3
   },
   "file_extension": ".py",
   "mimetype": "text/x-python",
   "name": "python",
   "nbconvert_exporter": "python",
   "pygments_lexer": "ipython3",
   "version": "3.7.15"
  },
  "vscode": {
   "interpreter": {
    "hash": "e7370f93d1d0cde622a1f8e1c04877d8463912d04d973331ad4851f04de6915a"
   }
  }
 },
 "nbformat": 4,
 "nbformat_minor": 2
}
